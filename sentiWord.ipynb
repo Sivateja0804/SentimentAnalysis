{
 "cells": [
  {
   "cell_type": "code",
   "execution_count": 1,
   "metadata": {},
   "outputs": [
    {
     "name": "stderr",
     "output_type": "stream",
     "text": [
      "[nltk_data] Downloading package averaged_perceptron_tagger to\n",
      "[nltk_data]     C:\\Users\\sivateja_k\\AppData\\Roaming\\nltk_data...\n",
      "[nltk_data]   Package averaged_perceptron_tagger is already up-to-\n",
      "[nltk_data]       date!\n"
     ]
    },
    {
     "name": "stdout",
     "output_type": "stream",
     "text": [
      "resulting filtered data length after dropping rating 3 should be 525814\n",
      "Filtered data length is 525814\n"
     ]
    },
    {
     "name": "stderr",
     "output_type": "stream",
     "text": [
      "C:\\Users\\sivateja_k\\Desktop\\NLP_Project\\utils.py:102: SettingWithCopyWarning: \n",
      "A value is trying to be set on a copy of a slice from a DataFrame.\n",
      "Try using .loc[row_indexer,col_indexer] = value instead\n",
      "\n",
      "See the caveats in the documentation: http://pandas.pydata.org/pandas-docs/stable/user_guide/indexing.html#returning-a-view-versus-a-copy\n",
      "  filtered_data['sentiment']=filtered_data['Score'].apply(assign_score)\n",
      "C:\\Users\\sivateja_k\\Anaconda3\\envs\\nlpproject\\lib\\site-packages\\pandas\\core\\frame.py:4117: SettingWithCopyWarning: \n",
      "A value is trying to be set on a copy of a slice from a DataFrame\n",
      "\n",
      "See the caveats in the documentation: http://pandas.pydata.org/pandas-docs/stable/user_guide/indexing.html#returning-a-view-versus-a-copy\n",
      "  errors=errors,\n"
     ]
    }
   ],
   "source": [
    "import utils\n",
    "from utils import *\n",
    "\n",
    "trainPath=r\"C:\\Users\\sivateja_k\\Desktop\\NLP_Project\\dataset\\Reviews.csv\"\n",
    "review,sentiment,df=data_preprocess(trainPath)"
   ]
  },
  {
   "cell_type": "code",
   "execution_count": 2,
   "metadata": {},
   "outputs": [
    {
     "name": "stdout",
     "output_type": "stream",
     "text": [
      "Accuracy : 0.9284243189806678\n",
      "              precision    recall  f1-score   support\n",
      "\n",
      "           0       0.88      0.63      0.73     11434\n",
      "           1       0.93      0.98      0.96     61398\n",
      "\n",
      "    accuracy                           0.93     72832\n",
      "   macro avg       0.91      0.81      0.85     72832\n",
      "weighted avg       0.93      0.93      0.92     72832\n",
      "\n",
      "======Confusion Matrix======\n",
      "\n",
      " [[ 7161  4273]\n",
      " [  940 60458]]\n"
     ]
    },
    {
     "data": {
      "image/png": "[encoded data removed]",
      "text/plain": [
       "<Figure size 432x288 with 2 Axes>"
      ]
     },
     "metadata": {
      "needs_background": "light"
     },
     "output_type": "display_data"
    },
    {
     "name": "stdout",
     "output_type": "stream",
     "text": [
      "-----------------Top 20 positive words------------\n",
      " Coefficient            Word\n",
      "   19.505135           great\n",
      "   16.041275          delici\n",
      "   15.860921            best\n",
      "   15.629774            love\n",
      "   14.197556         perfect\n",
      "   12.088944           excel\n",
      "   10.789755            good\n",
      "   10.637773            nice\n",
      "   10.213893  high recommend\n",
      "    9.865350            amaz\n",
      "    9.539718         favorit\n",
      "    8.723078          awesom\n",
      "    8.678343          wonder\n",
      "    8.404713           tasti\n",
      "    8.299969            easi\n",
      "    7.960288           happi\n",
      "    7.959817           thank\n",
      "    7.716638           yummi\n",
      "    7.628378            keep\n",
      "    7.341480          smooth\n",
      "-----------------Top 20 negative words------------\n",
      " Coefficient        Word\n",
      "   -6.930101      refund\n",
      "   -6.985643        poor\n",
      "   -7.085862        mayb\n",
      "   -7.464417       money\n",
      "   -7.666302       sorri\n",
      "   -7.742578        wast\n",
      "   -7.784899   tasteless\n",
      "   -7.940912         not\n",
      "   -8.231679        weak\n",
      "   -8.721148     disgust\n",
      "   -8.869021       bland\n",
      "   -9.048983       threw\n",
      "   -9.622854       stale\n",
      "  -10.346800     horribl\n",
      "  -10.607687    unfortun\n",
      "  -11.241734      return\n",
      "  -11.452320          aw\n",
      "  -11.514334     terribl\n",
      "  -13.302885       worst\n",
      "  -16.552906  disappoint\n"
     ]
    }
   ],
   "source": [
    "from sklearn.linear_model import LogisticRegression\n",
    "from sklearn.feature_extraction.text import TfidfVectorizer\n",
    "get_accuracy(review,sentiment,TfidfVectorizer(ngram_range=(1,2)),LogisticRegression(max_iter=300),show_coefficients=True)"
   ]
  },
  {
   "cell_type": "code",
   "execution_count": 3,
   "metadata": {},
   "outputs": [],
   "source": [
    "review_train,review_test,target_train,target_test=train_test_split(review,sentiment,test_size=0.2,random_state=0)"
   ]
  },
  {
   "cell_type": "code",
   "execution_count": 4,
   "metadata": {},
   "outputs": [
    {
     "name": "stdout",
     "output_type": "stream",
     "text": [
      "Accuracy : 0.6472704305799648\n",
      "              precision    recall  f1-score   support\n",
      "\n",
      "           0       0.24      0.55      0.33     11434\n",
      "           1       0.89      0.66      0.76     61398\n",
      "\n",
      "    accuracy                           0.65     72832\n",
      "   macro avg       0.56      0.61      0.55     72832\n",
      "weighted avg       0.79      0.65      0.69     72832\n",
      "\n",
      "======Confusion Matrix======\n",
      "\n",
      " [[ 6340  5094]\n",
      " [20596 40802]]\n"
     ]
    },
    {
     "data": {
      "image/png": "[encoded data removed]",
      "text/plain": [
       "<Figure size 432x288 with 2 Axes>"
      ]
     },
     "metadata": {
      "needs_background": "light"
     },
     "output_type": "display_data"
    }
   ],
   "source": [
    "yhat=append_senti_to_sent(list(review_test))\n",
    "print(\"Accuracy :\", np.mean(yhat == target_test))\n",
    "print(classification_report(target_test, yhat))\n",
    "confusionMatrix(target_test,yhat)"
   ]
  },
  {
   "cell_type": "code",
   "execution_count": null,
   "metadata": {},
   "outputs": [],
   "source": []
  }
 ],
 "metadata": {
  "kernelspec": {
   "display_name": "nlpproject",
   "language": "python",
   "name": "nlpproject"
  },
  "language_info": {
   "codemirror_mode": {
    "name": "ipython",
    "version": 3
   },
   "file_extension": ".py",
   "mimetype": "text/x-python",
   "name": "python",
   "nbconvert_exporter": "python",
   "pygments_lexer": "ipython3",
   "version": "3.5.6"
  }
 },
 "nbformat": 4,
 "nbformat_minor": 4
}
