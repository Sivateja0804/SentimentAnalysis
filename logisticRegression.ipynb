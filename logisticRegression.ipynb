{
 "cells": [
  {
   "cell_type": "code",
   "execution_count": 3,
   "metadata": {},
   "outputs": [
    {
     "name": "stdout",
     "output_type": "stream",
     "text": [
      "resulting filtered data length after dropping rating 3 should be 525814\n",
      "Filtered data length is 525814\n"
     ]
    }
   ],
   "source": [
    "import utils\n",
    "from utils import *\n",
    "\n",
    "trainPath=r\"C:\\Users\\sivateja_k\\Desktop\\NLP_Project\\dataset\\Reviews.csv\"\n",
    "review,sentiment,df=data_preprocess(trainPath)"
   ]
  },
  {
   "cell_type": "code",
   "execution_count": null,
   "metadata": {},
   "outputs": [],
   "source": [
    "\n",
    "from sklearn.linear_model import LogisticRegression\n",
    "from sklearn.feature_extraction.text import CountVectorizer\n",
    "get_accuracy(review,sentiment,CountVectorizer(),LogisticRegression(max_iter=1000),show_coefficients=True)"
   ]
  },
  {
   "cell_type": "code",
   "execution_count": null,
   "metadata": {},
   "outputs": [],
   "source": [
    "#accuracy is around 92.25%, but some of the coefficients are not meaningful such as 6s so lets use TFIDF and see the accuracy\n",
    "from sklearn.feature_extraction.text import TfidfVectorizer\n",
    "get_accuracy(review,sentiment,TfidfVectorizer(),LogisticRegression(max_iter=300),show_coefficients=True)\n",
    "#now we got accuracy of 92.49 but now top postive and negative words make sense"
   ]
  },
  {
   "cell_type": "code",
   "execution_count": null,
   "metadata": {},
   "outputs": [],
   "source": [
    "get_accuracy(review,sentiment,TfidfVectorizer(ngram_range=(1,2)),LogisticRegression(max_iter=300),show_coefficients=True)\n",
    "#now if you see words such as high recommend comes in positive words and waste money comes in negative words"
   ]
  },
  {
   "cell_type": "code",
   "execution_count": null,
   "metadata": {},
   "outputs": [],
   "source": [
    "get_accuracy(review,sentiment,TfidfVectorizer(ngram_range=(1,3)),LogisticRegression(max_iter=300),show_coefficients=True)\n",
    "#now if you see positive and negative words then it make more sense"
   ]
  },
  {
   "cell_type": "code",
   "execution_count": 4,
   "metadata": {},
   "outputs": [
    {
     "data": {
      "text/plain": [
       "array([ 1.66992188e-01, -5.41992188e-02, -8.74023438e-02,  1.96533203e-02,\n",
       "       -2.42919922e-02, -2.51953125e-01,  4.76074219e-02, -7.95898438e-02,\n",
       "        7.12890625e-02,  2.12890625e-01,  1.61132812e-01, -1.56250000e-01,\n",
       "       -2.47070312e-01, -1.43554688e-01, -1.39648438e-01,  1.03515625e-01,\n",
       "       -8.98437500e-02,  2.39257812e-01, -2.07031250e-01,  2.10937500e-01,\n",
       "       -9.37500000e-02,  1.31835938e-01,  1.50390625e-01,  8.49609375e-02,\n",
       "        2.22656250e-01,  1.90429688e-01, -3.34472656e-02,  1.23535156e-01,\n",
       "       -1.95312500e-01, -5.20019531e-02,  1.37329102e-02,  1.23535156e-01,\n",
       "       -2.83203125e-01,  1.31835938e-01,  1.82617188e-01, -6.19506836e-03,\n",
       "        7.08007812e-02, -1.84570312e-01, -2.08984375e-01,  9.42382812e-02,\n",
       "        1.11816406e-01,  1.45507812e-01,  6.98242188e-02, -2.13867188e-01,\n",
       "       -1.58203125e-01, -1.86523438e-01, -3.29589844e-02,  1.24023438e-01,\n",
       "       -2.75878906e-02, -7.59124756e-04,  9.81445312e-02, -1.87500000e-01,\n",
       "        1.47460938e-01, -3.32031250e-01, -1.83105469e-03, -1.96533203e-02,\n",
       "       -2.85644531e-02, -3.00292969e-02,  6.07910156e-02, -1.40625000e-01,\n",
       "        7.86132812e-02,  2.75390625e-01,  1.24023438e-01,  2.34375000e-01,\n",
       "       -1.37939453e-02, -1.92382812e-01, -1.61132812e-01, -1.76757812e-01,\n",
       "        4.98046875e-02,  6.64062500e-02,  3.80859375e-01, -4.02832031e-02,\n",
       "        1.47460938e-01,  1.20117188e-01, -1.39648438e-01,  1.25000000e-01,\n",
       "        9.81445312e-02,  3.66210938e-02, -1.97265625e-01, -3.68652344e-02,\n",
       "        1.92382812e-01, -1.61132812e-01,  1.76757812e-01,  2.36328125e-01,\n",
       "       -1.02050781e-01,  4.41894531e-02,  8.20312500e-02,  3.76953125e-01,\n",
       "       -1.38549805e-02,  1.25000000e-01, -4.37011719e-02,  2.32421875e-01,\n",
       "        2.62451172e-02, -9.76562500e-03, -1.00097656e-01, -1.49414062e-01,\n",
       "       -1.44531250e-01, -2.42919922e-02, -4.88281250e-02,  5.83496094e-02,\n",
       "        1.23046875e-01, -1.43554688e-01, -1.46484375e-01,  1.46484375e-01,\n",
       "        2.07031250e-01, -1.31835938e-02, -6.83593750e-02,  2.35351562e-01,\n",
       "       -1.41601562e-01, -3.12500000e-02,  1.45507812e-01,  1.94335938e-01,\n",
       "       -1.19686127e-04,  6.71386719e-03,  2.46093750e-01,  6.83593750e-03,\n",
       "       -8.83789062e-02,  1.57226562e-01,  2.92968750e-01, -5.29785156e-02,\n",
       "        3.00781250e-01,  5.15136719e-02, -8.25195312e-02, -4.17480469e-02,\n",
       "       -8.93554688e-02, -2.91748047e-02,  2.09960938e-01, -2.12890625e-01,\n",
       "        2.25585938e-01, -4.66308594e-02, -8.74023438e-02,  4.54101562e-02,\n",
       "       -1.08886719e-01,  1.85546875e-01, -2.27050781e-02,  7.12890625e-02,\n",
       "       -1.88476562e-01,  1.14746094e-01, -3.16406250e-01,  2.83203125e-01,\n",
       "        1.22680664e-02, -3.05175781e-02, -3.58886719e-02, -2.29492188e-01,\n",
       "        1.10351562e-01,  7.66601562e-02, -4.00390625e-02, -3.06640625e-01,\n",
       "        5.27343750e-02, -1.50390625e-01,  1.94335938e-01,  5.32226562e-02,\n",
       "       -1.20117188e-01,  1.01074219e-01, -1.66992188e-01,  1.62109375e-01,\n",
       "       -3.67187500e-01, -7.42187500e-02, -2.38281250e-01,  8.88671875e-02,\n",
       "       -2.47802734e-02, -1.15356445e-02,  1.32446289e-02,  4.22363281e-02,\n",
       "       -7.78198242e-03,  1.70898438e-02,  3.14941406e-02, -1.81640625e-01,\n",
       "       -2.46582031e-02, -9.03320312e-02, -3.04687500e-01, -1.96838379e-03,\n",
       "        1.26953125e-01, -1.66992188e-01,  1.91650391e-02,  1.77734375e-01,\n",
       "        2.08984375e-01,  5.68847656e-02,  2.41210938e-01,  2.24609375e-01,\n",
       "       -3.44238281e-02, -5.07812500e-02, -2.28515625e-01,  1.84326172e-02,\n",
       "        1.76757812e-01, -3.57421875e-01, -6.59179688e-02,  1.16210938e-01,\n",
       "       -2.77343750e-01, -3.80859375e-02, -5.78613281e-02, -6.83593750e-02,\n",
       "        3.44238281e-02,  1.17187500e-01,  2.21252441e-03,  2.27539062e-01,\n",
       "        1.85546875e-01,  2.02148438e-01,  1.74804688e-01, -1.24023438e-01,\n",
       "       -1.22680664e-02,  2.08007812e-01,  3.66210938e-02,  3.24707031e-02,\n",
       "       -2.53906250e-01, -6.25000000e-02,  1.29882812e-01,  7.81250000e-02,\n",
       "       -2.74658203e-03, -1.88476562e-01,  1.23535156e-01,  1.81640625e-01,\n",
       "        1.25976562e-01,  2.20703125e-01,  1.88476562e-01,  1.59179688e-01,\n",
       "        1.95312500e-01, -1.66015625e-02, -9.22851562e-02,  7.32421875e-02,\n",
       "       -2.55859375e-01,  2.92968750e-01, -4.10156250e-02,  7.47070312e-02,\n",
       "       -3.29589844e-02, -1.52587891e-02, -2.29492188e-01, -6.00585938e-02,\n",
       "       -2.81250000e-01, -3.26171875e-01,  1.31835938e-01, -8.98437500e-02,\n",
       "        1.91406250e-01, -6.68945312e-02,  1.39648438e-01,  1.69921875e-01,\n",
       "        2.77343750e-01, -1.95312500e-01,  1.00097656e-01,  1.91650391e-02,\n",
       "        4.58984375e-02, -1.02539062e-01, -1.62109375e-01,  7.37304688e-02,\n",
       "        1.98242188e-01,  2.79296875e-01,  2.18750000e-01, -4.90722656e-02,\n",
       "        1.78710938e-01, -1.30859375e-01,  1.67968750e-01,  1.03515625e-01,\n",
       "        1.57226562e-01,  1.58203125e-01, -1.62353516e-02,  1.25000000e-01,\n",
       "       -4.78515625e-02,  1.15722656e-01,  1.08642578e-02,  1.50390625e-01,\n",
       "       -2.15820312e-01, -1.24511719e-01,  2.73437500e-01, -1.02050781e-01,\n",
       "       -2.63671875e-02,  2.44140625e-02, -1.40625000e-01, -1.42578125e-01,\n",
       "        1.43554688e-01,  1.16210938e-01,  1.83593750e-01,  1.45263672e-02,\n",
       "        2.08984375e-01,  4.15039062e-02,  1.11328125e-01, -8.93554688e-02,\n",
       "       -1.06445312e-01, -1.75476074e-03, -2.15820312e-01, -1.40625000e-01,\n",
       "       -1.98242188e-01,  1.97265625e-01,  1.00585938e-01, -7.42187500e-02,\n",
       "        1.18164062e-01, -1.18255615e-03, -2.47802734e-02,  4.29687500e-01,\n",
       "       -1.04492188e-01, -8.59375000e-02, -2.86865234e-02,  8.15429688e-02,\n",
       "       -2.47070312e-01,  2.39257812e-01,  2.20703125e-01,  3.41796875e-02,\n",
       "        8.34960938e-02, -1.25000000e-01,  1.84570312e-01, -2.14843750e-01],\n",
       "      dtype=float32)"
      ]
     },
     "execution_count": 4,
     "metadata": {},
     "output_type": "execute_result"
    }
   ],
   "source": [
    "#word2vec\n",
    "import gensim.downloader as api\n",
    "wv = api.load('word2vec-google-news-300')\n",
    "wv[review[0].split()[1]]"
   ]
  },
  {
   "cell_type": "code",
   "execution_count": 6,
   "metadata": {},
   "outputs": [
    {
     "name": "stdout",
     "output_type": "stream",
     "text": [
      "364159\n",
      "Accuracy : 0.8430085676625659\n",
      "              precision    recall  f1-score   support\n",
      "\n",
      "           0       0.00      0.00      0.00     11434\n",
      "           1       0.84      1.00      0.91     61398\n",
      "\n",
      "    accuracy                           0.84     72832\n",
      "   macro avg       0.42      0.50      0.46     72832\n",
      "weighted avg       0.71      0.84      0.77     72832\n",
      "\n",
      "======Confusion Matrix======\n",
      "\n",
      " [[    0 11434]\n",
      " [    0 61398]]\n"
     ]
    },
    {
     "name": "stderr",
     "output_type": "stream",
     "text": [
      "C:\\Users\\sivateja_k\\Anaconda3\\envs\\nlpproject\\lib\\site-packages\\sklearn\\metrics\\_classification.py:1272: UndefinedMetricWarning: Precision and F-score are ill-defined and being set to 0.0 in labels with no predicted samples. Use `zero_division` parameter to control this behavior.\n",
      "  _warn_prf(average, modifier, msg_start, len(result))\n"
     ]
    },
    {
     "data": {
      "image/png": "[encoded data removed]",
      "text/plain": [
       "<Figure size 432x288 with 2 Axes>"
      ]
     },
     "metadata": {
      "needs_background": "light"
     },
     "output_type": "display_data"
    }
   ],
   "source": [
    "#########word2vec############\n",
    "\n",
    "from sklearn.linear_model import LogisticRegression\n",
    "from sklearn.feature_extraction.text import CountVectorizer,TfidfVectorizer\n",
    "import numpy as np\n",
    "sentence_vectors=[]\n",
    "for sentence in review:\n",
    "    sentV=np.zeros(50)\n",
    "    for word in sentence:\n",
    "        try:\n",
    "            vector=wv[word]\n",
    "            sentV+=vector\n",
    "        except:\n",
    "            pass\n",
    "    sentence_vectors.append(sentV)\n",
    "print(len(sentence_vectors))\n",
    "\n",
    "# This is word2vec+LR\n",
    "review_train,review_test,target_train,target_test=train_test_split(sentence_vectors,sentiment,test_size=0.2,random_state=0)\n",
    "final_model=LogisticRegression(max_iter=300).fit(review_train,target_train)\n",
    "yhat=final_model.predict(review_test)\n",
    "print(\"Accuracy :\", np.mean(yhat == target_test))\n",
    "print(classification_report(target_test, yhat))\n",
    "confusionMatrix(target_test,yhat)"
   ]
  },
  {
   "cell_type": "code",
   "execution_count": 7,
   "metadata": {},
   "outputs": [
    {
     "name": "stdout",
     "output_type": "stream",
     "text": [
      "Accuracy : 0.8430085676625659\n",
      "              precision    recall  f1-score   support\n",
      "\n",
      "           0       0.00      0.00      0.00     11434\n",
      "           1       0.84      1.00      0.91     61398\n",
      "\n",
      "    accuracy                           0.84     72832\n",
      "   macro avg       0.42      0.50      0.46     72832\n",
      "weighted avg       0.71      0.84      0.77     72832\n",
      "\n",
      "======Confusion Matrix======\n",
      "\n",
      " [[    0 11434]\n",
      " [    0 61398]]\n"
     ]
    },
    {
     "name": "stderr",
     "output_type": "stream",
     "text": [
      "C:\\Users\\sivateja_k\\Anaconda3\\envs\\nlpproject\\lib\\site-packages\\sklearn\\metrics\\_classification.py:1272: UndefinedMetricWarning: Precision and F-score are ill-defined and being set to 0.0 in labels with no predicted samples. Use `zero_division` parameter to control this behavior.\n",
      "  _warn_prf(average, modifier, msg_start, len(result))\n"
     ]
    },
    {
     "data": {
      "image/png": "[encoded data removed]",
      "text/plain": [
       "<Figure size 432x288 with 2 Axes>"
      ]
     },
     "metadata": {
      "needs_background": "light"
     },
     "output_type": "display_data"
    }
   ],
   "source": [
    "#Avg word2vec +LR\n",
    "sentence_vectors=[]\n",
    "for sentence in review:\n",
    "    sentV=np.zeros(50)\n",
    "    count=0\n",
    "    for word in sentence:\n",
    "        try:\n",
    "            vector=wv[word]\n",
    "            sentV+=vector\n",
    "            count+=1\n",
    "        except:\n",
    "            pass\n",
    "    if count!=0:\n",
    "        sentV/=count\n",
    "    sentence_vectors.append(sentV)\n",
    "# This is word2vec+LR\n",
    "review_train,review_test,target_train,target_test=train_test_split(sentence_vectors,sentiment,test_size=0.2,random_state=0)\n",
    "final_model=LogisticRegression(max_iter=300).fit(review_train,target_train)\n",
    "yhat=final_model.predict(review_test)\n",
    "print(\"Accuracy :\", np.mean(yhat == target_test))\n",
    "print(classification_report(target_test, yhat))\n",
    "confusionMatrix(target_test,yhat)"
   ]
  },
  {
   "cell_type": "code",
   "execution_count": 8,
   "metadata": {},
   "outputs": [
    {
     "name": "stdout",
     "output_type": "stream",
     "text": [
      "Accuracy : 0.8430085676625659\n",
      "              precision    recall  f1-score   support\n",
      "\n",
      "           0       0.00      0.00      0.00     11434\n",
      "           1       0.84      1.00      0.91     61398\n",
      "\n",
      "    accuracy                           0.84     72832\n",
      "   macro avg       0.42      0.50      0.46     72832\n",
      "weighted avg       0.71      0.84      0.77     72832\n",
      "\n",
      "======Confusion Matrix======\n"
     ]
    },
    {
     "name": "stderr",
     "output_type": "stream",
     "text": [
      "C:\\Users\\sivateja_k\\Anaconda3\\envs\\nlpproject\\lib\\site-packages\\sklearn\\metrics\\_classification.py:1272: UndefinedMetricWarning: Precision and F-score are ill-defined and being set to 0.0 in labels with no predicted samples. Use `zero_division` parameter to control this behavior.\n",
      "  _warn_prf(average, modifier, msg_start, len(result))\n"
     ]
    },
    {
     "name": "stdout",
     "output_type": "stream",
     "text": [
      "\n",
      " [[    0 11434]\n",
      " [    0 61398]]\n"
     ]
    },
    {
     "data": {
      "image/png": "[encoded data removed]",
      "text/plain": [
       "<Figure size 432x288 with 2 Axes>"
      ]
     },
     "metadata": {
      "needs_background": "light"
     },
     "output_type": "display_data"
    }
   ],
   "source": [
    "#tfidf+avgword2vec\n",
    "tf_idf_vect=TfidfVectorizer(ngram_range=(1,2))\n",
    "tf_idf_vect.fit_transform(review)\n",
    "tfidf_feat=tf_idf_vect.get_feature_names()\n",
    "tfidf_sent_vectors=[]\n",
    "row=0\n",
    "for sentence in review:\n",
    "    sent_vec=np.zeros(300)\n",
    "    weight_sum=0\n",
    "    for word in sentence:\n",
    "        try:\n",
    "            vector=wv[word]\n",
    "            vtfidf=final_tf_idf[row,tfidf_feat.index(word)]\n",
    "            sent_vec+=(vec*tf_idf)\n",
    "            weight_sum+=1\n",
    "        except:\n",
    "             pass\n",
    "    if weight_sum!=0:\n",
    "        sent_vec/=weight_sum\n",
    "    tfidf_sent_vectors.append(sent_vec)\n",
    "    row+=1\n",
    "review_train,review_test,target_train,target_test=train_test_split(tfidf_sent_vectors,sentiment,test_size=0.2,random_state=0)\n",
    "final_model=LogisticRegression(max_iter=300).fit(review_train,target_train)\n",
    "yhat=final_model.predict(review_test)\n",
    "print(\"Accuracy :\", np.mean(yhat == target_test))\n",
    "print(classification_report(target_test, yhat))\n",
    "confusionMatrix(target_test,yhat)"
   ]
  },
  {
   "cell_type": "code",
   "execution_count": null,
   "metadata": {},
   "outputs": [],
   "source": [
    " "
   ]
  }
 ],
 "metadata": {
  "kernelspec": {
   "display_name": "nlpproject",
   "language": "python",
   "name": "nlpproject"
  },
  "language_info": {
   "codemirror_mode": {
    "name": "ipython",
    "version": 3
   },
   "file_extension": ".py",
   "mimetype": "text/x-python",
   "name": "python",
   "nbconvert_exporter": "python",
   "pygments_lexer": "ipython3",
   "version": "3.5.6"
  }
 },
 "nbformat": 4,
 "nbformat_minor": 4
}
